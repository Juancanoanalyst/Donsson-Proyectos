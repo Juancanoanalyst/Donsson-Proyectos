{
 "cells": [
  {
   "cell_type": "code",
   "execution_count": 23,
   "id": "8c9e35d2",
   "metadata": {},
   "outputs": [],
   "source": [
    "import pandas as pd"
   ]
  },
  {
   "cell_type": "code",
   "execution_count": 24,
   "id": "f830acb3",
   "metadata": {},
   "outputs": [],
   "source": [
    "ruta_p = \"productos.xls\"\n",
    "\n",
    "productos = pd.read_excel(ruta_p) #Se usan absolutamente todos los productos los vendibles y los no vendibles como servicios\n",
    "categorias = pd.read_csv(\"product.category (1).csv\", sep=',')\n"
   ]
  },
  {
   "cell_type": "code",
   "execution_count": 31,
   "id": "123c91bb",
   "metadata": {},
   "outputs": [
    {
     "name": "stdout",
     "output_type": "stream",
     "text": [
      "<class 'pandas.core.frame.DataFrame'>\n",
      "RangeIndex: 5552 entries, 0 to 5551\n",
      "Data columns (total 9 columns):\n",
      " #   Column              Non-Null Count  Dtype  \n",
      "---  ------              --------------  -----  \n",
      " 0   Referencia interna  5551 non-null   object \n",
      " 1   Nombre              5551 non-null   object \n",
      " 2   Categoría interna   5552 non-null   object \n",
      " 3   Nivel stock minimo  0 non-null      float64\n",
      " 4   Clase               5551 non-null   object \n",
      " 5   Precio de venta     4908 non-null   float64\n",
      " 6   Cantidad a mano     3659 non-null   float64\n",
      " 7   Cantidad prevista   3718 non-null   float64\n",
      " 8   Fecha prevista      925 non-null    object \n",
      "dtypes: float64(4), object(5)\n",
      "memory usage: 390.5+ KB\n"
     ]
    }
   ],
   "source": [
    "productos.info()"
   ]
  },
  {
   "cell_type": "code",
   "execution_count": 26,
   "id": "d7237c2d",
   "metadata": {},
   "outputs": [
    {
     "data": {
      "text/html": [
       "<div>\n",
       "<style scoped>\n",
       "    .dataframe tbody tr th:only-of-type {\n",
       "        vertical-align: middle;\n",
       "    }\n",
       "\n",
       "    .dataframe tbody tr th {\n",
       "        vertical-align: top;\n",
       "    }\n",
       "\n",
       "    .dataframe thead th {\n",
       "        text-align: right;\n",
       "    }\n",
       "</style>\n",
       "<table border=\"1\" class=\"dataframe\">\n",
       "  <thead>\n",
       "    <tr style=\"text-align: right;\">\n",
       "      <th></th>\n",
       "      <th>External ID</th>\n",
       "      <th>Display Name</th>\n",
       "    </tr>\n",
       "  </thead>\n",
       "  <tbody>\n",
       "    <tr>\n",
       "      <th>0</th>\n",
       "      <td>__export__.product_category_1</td>\n",
       "      <td>Industrias Donsson</td>\n",
       "    </tr>\n",
       "    <tr>\n",
       "      <th>1</th>\n",
       "      <td>__export__.product_category_885</td>\n",
       "      <td>Industrias Donsson / Lubricantes</td>\n",
       "    </tr>\n",
       "    <tr>\n",
       "      <th>2</th>\n",
       "      <td>__export__.product_category_886</td>\n",
       "      <td>Industrias Donsson / Lubricantes / Local</td>\n",
       "    </tr>\n",
       "    <tr>\n",
       "      <th>3</th>\n",
       "      <td>__export__.product_category_887</td>\n",
       "      <td>Industrias Donsson / Lubricantes / Local / Grasa</td>\n",
       "    </tr>\n",
       "    <tr>\n",
       "      <th>4</th>\n",
       "      <td>__export__.product_category_888</td>\n",
       "      <td>Industrias Donsson / Lubricantes / Local / Gra...</td>\n",
       "    </tr>\n",
       "  </tbody>\n",
       "</table>\n",
       "</div>"
      ],
      "text/plain": [
       "                       External ID  \\\n",
       "0    __export__.product_category_1   \n",
       "1  __export__.product_category_885   \n",
       "2  __export__.product_category_886   \n",
       "3  __export__.product_category_887   \n",
       "4  __export__.product_category_888   \n",
       "\n",
       "                                        Display Name  \n",
       "0                                 Industrias Donsson  \n",
       "1                   Industrias Donsson / Lubricantes  \n",
       "2           Industrias Donsson / Lubricantes / Local  \n",
       "3   Industrias Donsson / Lubricantes / Local / Grasa  \n",
       "4  Industrias Donsson / Lubricantes / Local / Gra...  "
      ]
     },
     "execution_count": 26,
     "metadata": {},
     "output_type": "execute_result"
    }
   ],
   "source": [
    "categorias.head()"
   ]
  },
  {
   "cell_type": "code",
   "execution_count": 30,
   "id": "f0effef2",
   "metadata": {},
   "outputs": [
    {
     "name": "stdout",
     "output_type": "stream",
     "text": [
      "Total categorías creadas: 391\n",
      "Categorías usadas en productos: 285\n",
      "Categorías NO usadas: 107\n"
     ]
    }
   ],
   "source": [
    "#Normaliza categorias\n",
    "categorias[\"Display Name\"] = categorias[\"Display Name\"].astype(str).str.strip()\n",
    "productos[\"Categoría interna\"] = productos[\"Categoría interna\"].astype(str).str.strip()\n",
    "\n",
    "# Conjuntos unicos\n",
    "todas_las_categorias = set(categorias[\"Display Name\"].unique())\n",
    "categorias_usadas = set(productos[\"Categoría interna\"].unique())\n",
    "\n",
    "#Detectae las que no se usan\n",
    "\n",
    "categorias_no_usadas = todas_las_categorias - categorias_usadas\n",
    "\n",
    "\n",
    "print(f\"Total categorías creadas: {len(todas_las_categorias)}\")\n",
    "print(f\"Categorías usadas en productos: {len(categorias_usadas)}\")\n",
    "print(f\"Categorías NO usadas: {len(categorias_no_usadas)}\")\n",
    "\n",
    "# 4. DataFrame con las no usadas\n",
    "df_no_usadas = categorias[categorias['Display Name'].isin(categorias_no_usadas)]\n",
    "\n",
    "\n",
    "df_no_usadas.to_excel( \"categorias_no_usadas.xlsx\")"
   ]
  },
  {
   "cell_type": "code",
   "execution_count": null,
   "id": "125aa2d9",
   "metadata": {},
   "outputs": [],
   "source": []
  }
 ],
 "metadata": {
  "kernelspec": {
   "display_name": ".venv",
   "language": "python",
   "name": "python3"
  },
  "language_info": {
   "codemirror_mode": {
    "name": "ipython",
    "version": 3
   },
   "file_extension": ".py",
   "mimetype": "text/x-python",
   "name": "python",
   "nbconvert_exporter": "python",
   "pygments_lexer": "ipython3",
   "version": "3.12.3"
  }
 },
 "nbformat": 4,
 "nbformat_minor": 5
}
