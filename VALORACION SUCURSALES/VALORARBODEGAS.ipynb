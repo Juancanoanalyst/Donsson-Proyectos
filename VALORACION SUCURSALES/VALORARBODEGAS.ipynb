{
 "cells": [
  {
   "cell_type": "code",
   "execution_count": 1,
   "id": "f2dfa685",
   "metadata": {},
   "outputs": [
    {
     "name": "stdout",
     "output_type": "stream",
     "text": [
      "✔ Resumen semana 34 guardado como: inventarios_historicos/resumen_semana34.xlsx\n",
      "✔ Histórico actualizado con 86607 registros: inventarios_historicos/historico_completo.xlsx\n"
     ]
    }
   ],
   "source": [
    "import pandas as pd\n",
    "import os\n",
    "\n",
    "# 1) Buscar el último archivo en 'dataset/'\n",
    "folder_dataset = 'dataset/Entrada/'\n",
    "archivos_dataset = sorted([\n",
    "    f for f in os.listdir(folder_dataset) \n",
    "    if f.startswith('df_completo_semana') and f.endswith('.csv')\n",
    "])\n",
    "archivo_mas_reciente = archivos_dataset[-1]\n",
    "ruta_archivo = os.path.join(folder_dataset, archivo_mas_reciente)\n",
    "\n",
    "# 2) Cargar el archivo\n",
    "df = pd.read_csv(ruta_archivo)\n",
    "\n",
    "# 3) Obtener la semana\n",
    "semana = df[\"semana\"].unique()\n",
    "if len(semana) != 1:\n",
    "    raise ValueError(f\"Hay más de una semana en el archivo: {semana}\")\n",
    "n_semana = int(semana[0])\n",
    "\n",
    "# 4) Limpiar\n",
    "df = df[df['producto_costo_unitario'] != 0]\n",
    "df = df[~((df['stock_actual'] == 0) & (df['inventario_ideal'] == 0))]\n",
    "\n",
    "# 5) Calcular valores económicos\n",
    "df['valor_stock_actual'] = df['stock_actual'] * df['producto_costo_unitario']\n",
    "df['valor_stock_ideal'] = df['inventario_ideal'] * df['producto_costo_unitario']\n",
    "df['diferencia_economica'] = df['valor_stock_ideal'] - df['valor_stock_actual']\n",
    "\n",
    "# 6) Clasificación categoría\n",
    "marcas_filtros = [\n",
    "    \"BALDWIN\", \"DONSSON\", \"AUT*PARTS\", \"RAMA\", \"RACOR USA\", \"RACOR BRASIL\"\n",
    "]\n",
    "\n",
    "def clasificar_categoria(marca):\n",
    "    marca = str(marca).upper().strip()\n",
    "    if marca == \"OTROS\":\n",
    "        return \"Otros\"\n",
    "    elif marca in marcas_filtros:\n",
    "        return \"Filtro\"\n",
    "    else:\n",
    "        return \"Aceite/Lubricante\"\n",
    "\n",
    "df[\"categoria_producto\"] = df[\"producto_marca\"].apply(clasificar_categoria)\n",
    "\n",
    "# 7) Guardar el resumen limpio individual\n",
    "nombre_archivo = f'resumen_semana{n_semana}.xlsx'\n",
    "ruta_resumen = f'inventarios_historicos/{nombre_archivo}'\n",
    "df.to_excel(ruta_resumen, index=False)\n",
    "print(f'✔ Resumen semana {n_semana} guardado como: {ruta_resumen}')\n",
    "\n",
    "# 8) Crear histórico completo\n",
    "# Buscar todos los archivos resumen existentes en inventarios_historicos/\n",
    "folder_historico = 'inventarios_historicos/'\n",
    "archivos_resumen = sorted([\n",
    "    f for f in os.listdir(folder_historico) \n",
    "    if f.startswith('resumen_semana') and f.endswith('.xlsx')\n",
    "])\n",
    "\n",
    "# Leer y unir todos los resúmenes\n",
    "df_historico = pd.DataFrame()\n",
    "for archivo in archivos_resumen:\n",
    "    ruta = os.path.join(folder_historico, archivo)\n",
    "    df_parcial = pd.read_excel(ruta)\n",
    "    df_historico = pd.concat([df_historico, df_parcial], ignore_index=True)\n",
    "\n",
    "# Guardar el histórico completo\n",
    "ruta_historico = os.path.join(folder_historico, 'historico_completo.xlsx')\n",
    "df_historico.to_excel(ruta_historico, index=False)\n",
    "print(f'✔ Histórico actualizado con {len(df_historico)} registros: {ruta_historico}')\n",
    "\n"
   ]
  }
 ],
 "metadata": {
  "kernelspec": {
   "display_name": ".env",
   "language": "python",
   "name": "python3"
  },
  "language_info": {
   "codemirror_mode": {
    "name": "ipython",
    "version": 3
   },
   "file_extension": ".py",
   "mimetype": "text/x-python",
   "name": "python",
   "nbconvert_exporter": "python",
   "pygments_lexer": "ipython3",
   "version": "3.12.3"
  }
 },
 "nbformat": 4,
 "nbformat_minor": 5
}
