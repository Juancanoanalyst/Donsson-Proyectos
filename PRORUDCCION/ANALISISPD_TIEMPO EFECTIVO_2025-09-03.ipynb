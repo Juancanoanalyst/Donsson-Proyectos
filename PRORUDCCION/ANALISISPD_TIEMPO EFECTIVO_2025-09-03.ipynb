{
 "cells": [
  {
   "cell_type": "code",
   "execution_count": 9,
   "id": "4f489101",
   "metadata": {},
   "outputs": [],
   "source": [
    "import xmlrpc.client\n",
    "import pandas as pd\n",
    "\n",
    "username = \"juan.cano@donsson.com\"\n",
    "password = \"1000285668\"\n",
    "url = \"https://donsson.com\"\n",
    "db = \"Donsson_produccion\"\n",
    "\n",
    "common = xmlrpc.client.ServerProxy(f\"{url}/xmlrpc/2/common\")\n",
    "uid = common.authenticate(db, username, password, {})\n",
    "models = xmlrpc.client.ServerProxy(f\"{url}/xmlrpc/2/object\")\n",
    "\n",
    "\n",
    "\n"
   ]
  },
  {
   "cell_type": "code",
   "execution_count": 10,
   "id": "6ebbd9e5",
   "metadata": {},
   "outputs": [
    {
     "name": "stdout",
     "output_type": "stream",
     "text": [
      "Esta la cantidad de horas reales esperadas para el mes , Teniendo en cuenta la media hora de almuerzo diaria 205.0\n"
     ]
    }
   ],
   "source": [
    "import pandas as pd\n",
    "import holidays\n",
    "\n",
    "def horas_ideales_mes(year=2025, month=0):\n",
    "    # Festivos de Colombia\n",
    "    co_holidays = holidays.CountryHoliday(\"CO\", years=[year])\n",
    "\n",
    "    # Rango de días del mes\n",
    "    inicio = pd.Timestamp(year, month, 1)\n",
    "    fin = inicio + pd.offsets.MonthEnd(0)\n",
    "    dias = pd.date_range(inicio, fin, freq=\"D\")\n",
    "\n",
    "    total_horas = 0.0\n",
    "    for d in dias:\n",
    "        if d.weekday() <= 3 and d.date() not in co_holidays:   # Lunes-Jueves\n",
    "            total_horas += 9.5\n",
    "        elif d.weekday() == 4 and d.date() not in co_holidays: # Viernes\n",
    "            total_horas += 8.5\n",
    "        # sábados, domingos y festivos = 0\n",
    "\n",
    "    return round(total_horas, 2)\n",
    "\n",
    "# Ejemplo: horas ideales agosto 2025\n",
    "print(F\"Esta la cantidad de horas reales esperadas para el mes , Teniendo en cuenta la media hora de almuerzo diaria\",horas_ideales_mes(2025, 9))\n",
    "horas_del_mes = horas_ideales_mes(2025, 8)"
   ]
  },
  {
   "cell_type": "code",
   "execution_count": null,
   "id": "d4b3d527",
   "metadata": {},
   "outputs": [],
   "source": []
  }
 ],
 "metadata": {
  "kernelspec": {
   "display_name": ".venv",
   "language": "python",
   "name": "python3"
  },
  "language_info": {
   "codemirror_mode": {
    "name": "ipython",
    "version": 3
   },
   "file_extension": ".py",
   "mimetype": "text/x-python",
   "name": "python",
   "nbconvert_exporter": "python",
   "pygments_lexer": "ipython3",
   "version": "3.12.3"
  }
 },
 "nbformat": 4,
 "nbformat_minor": 5
}
