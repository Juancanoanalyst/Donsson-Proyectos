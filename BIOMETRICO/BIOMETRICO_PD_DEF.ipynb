{
 "cells": [
  {
   "cell_type": "markdown",
   "id": "05b30dc4",
   "metadata": {},
   "source": [
    "# EDA BIOMETRICO"
   ]
  },
  {
   "cell_type": "code",
   "execution_count": 1,
   "id": "acdad854",
   "metadata": {},
   "outputs": [],
   "source": [
    "import pandas as pd\n",
    "import datetime as dt\n",
    "import numpy as np\n",
    "import locale\n",
    "import holidays"
   ]
  },
  {
   "cell_type": "code",
   "execution_count": 2,
   "id": "998038bc",
   "metadata": {},
   "outputs": [],
   "source": [
    "# --- Configurar los días festivos para Colombia para 2025:\n",
    "co_holidays = holidays.CountryHoliday('CO', years=[2025])"
   ]
  },
  {
   "cell_type": "code",
   "execution_count": 3,
   "id": "8eb15ae5",
   "metadata": {},
   "outputs": [
    {
     "name": "stdout",
     "output_type": "stream",
     "text": [
      "WARNING *** file size (1988229) not 512 + multiple of sector size (512)\n"
     ]
    }
   ],
   "source": [
    "ruta =\"dataset/produccion08.xls\"\n",
    "df_cota = pd.read_excel(ruta)"
   ]
  },
  {
   "cell_type": "markdown",
   "id": "0846b75f",
   "metadata": {},
   "source": [
    "### BD info produccion"
   ]
  },
  {
   "cell_type": "code",
   "execution_count": 4,
   "id": "9d4530fd",
   "metadata": {},
   "outputs": [],
   "source": [
    "ruta2 =\"empleados/info producciòn.xlsx\"\n",
    "df_empleados = pd.read_excel(ruta2)"
   ]
  },
  {
   "cell_type": "code",
   "execution_count": 5,
   "id": "76233e21",
   "metadata": {},
   "outputs": [
    {
     "data": {
      "text/plain": [
       "Tiempo                  0\n",
       "ID de Usuario         990\n",
       "Nombre                990\n",
       "Apellido             1185\n",
       "Número de tarjeta    5615\n",
       "Dispositivo             0\n",
       "Punto del evento        0\n",
       "Verificación            0\n",
       "Estado                  0\n",
       "Evento                  0\n",
       "Notas                5802\n",
       "dtype: int64"
      ]
     },
     "execution_count": 5,
     "metadata": {},
     "output_type": "execute_result"
    }
   ],
   "source": [
    "df_cota.isnull().sum()"
   ]
  },
  {
   "cell_type": "markdown",
   "id": "eef6d66d",
   "metadata": {},
   "source": [
    "### LIMPIEZA"
   ]
  },
  {
   "cell_type": "code",
   "execution_count": 6,
   "id": "0065980d",
   "metadata": {},
   "outputs": [
    {
     "data": {
      "text/plain": [
       "np.int64(0)"
      ]
     },
     "execution_count": 6,
     "metadata": {},
     "output_type": "execute_result"
    }
   ],
   "source": [
    "# Manejar por buenas practicas titulos en minuscula y sin espacios en blanco\n",
    "new_name =[] \n",
    "for column in df_cota.columns:\n",
    "    minus = column.lower()\n",
    "    replace = minus.replace(\" \",\"_\")\n",
    "    new_name.append(replace)\n",
    "\n",
    "df_cota.columns = new_name\n",
    "\n",
    "\n",
    "df_cota.duplicated().sum()\n"
   ]
  },
  {
   "cell_type": "code",
   "execution_count": 7,
   "id": "24c51c61",
   "metadata": {},
   "outputs": [],
   "source": [
    "#cambia el nombre de la columna de numero a ID del trabajador\n",
    "df_cota.rename(columns={'número': 'id'}, inplace=True) \n",
    "\n",
    "df_cota[\"nombre_completo\"] = df_cota[\"nombre\"] +\" \"+df_cota[\"apellido\"]"
   ]
  },
  {
   "cell_type": "markdown",
   "id": "09df6a23",
   "metadata": {},
   "source": [
    "### MATCH TRABAJADORES BIOMETRICO"
   ]
  },
  {
   "cell_type": "code",
   "execution_count": 8,
   "id": "44bfb23a",
   "metadata": {},
   "outputs": [
    {
     "name": "stderr",
     "output_type": "stream",
     "text": [
      "/home/donsson/Biometricos/.entorno/lib/python3.12/site-packages/fuzzywuzzy/fuzz.py:11: UserWarning: Using slow pure-python SequenceMatcher. Install python-Levenshtein to remove this warning\n",
      "  warnings.warn('Using slow pure-python SequenceMatcher. Install python-Levenshtein to remove this warning')\n"
     ]
    },
    {
     "name": "stdout",
     "output_type": "stream",
     "text": [
      "Oficiales (total): 37\n",
      "Nombres únicos en df_cota: 60\n",
      "Nombres de df_cota asignados a oficiales: 37\n",
      "Umbral usado (THRESHOLD): 85\n",
      "Empleados oficiales sin match: 0\n",
      "[]\n"
     ]
    }
   ],
   "source": [
    "from fuzzywuzzy import process, fuzz\n",
    "import pandas as pd\n",
    "import unidecode\n",
    "\n",
    "# ---- Función de normalización ----\n",
    "def limpiar_nombre(nombre):\n",
    "    if pd.isna(nombre):\n",
    "        return \"\"\n",
    "    s = str(nombre).upper().strip()\n",
    "    s = unidecode.unidecode(s)\n",
    "    s = \" \".join(s.split())\n",
    "    return s\n",
    "\n",
    "# ---- Normalizar columnas ----\n",
    "df_cota['nombre_limpio']     = df_cota['nombre_completo'].apply(limpiar_nombre)\n",
    "df_empleados['empleado_limpio'] = df_empleados['Empleado'].apply(limpiar_nombre)\n",
    "\n",
    "# ---- Listas únicas útiles (sin cadenas vacías) ----\n",
    "cotas_unique = [n for n in df_cota['nombre_limpio'].unique() if n and len(n) >= 3]\n",
    "# Usamos el df_empleados tal cual para mantener Departamento y nombre original\n",
    "THRESHOLD = 85  # ajustar si quieres más/menos estricto\n",
    "\n",
    "# ---- Buscamos, por cada empleado oficial, su mejor match en df_cota ----\n",
    "# Guardamos el mejor match por nombre_cota (para evitar duplicados incorrectos)\n",
    "best_map = {}   # key = nombre_limpio (df_cota), value = dict(oficial, dept, score, empleado_limpio_oficial)\n",
    "\n",
    "for _, row in df_empleados.iterrows():\n",
    "    oficial_limpio = row['empleado_limpio']\n",
    "    if not oficial_limpio:\n",
    "        continue\n",
    "    dept = row['Departamento']\n",
    "    # buscar mejor match en cotas_unique usando token_set_ratio\n",
    "    resultado = process.extractOne(oficial_limpio, cotas_unique, scorer=fuzz.token_set_ratio)\n",
    "    if resultado:\n",
    "        match_name, score = resultado[0], resultado[1]  # extractOne con lista devuelve (match, score)\n",
    "        # solo consideramos si pasa el umbral\n",
    "        if score >= THRESHOLD:\n",
    "            prev = best_map.get(match_name)\n",
    "            # si ya hay un candidato para ese nombre, quedarnos con el de mayor score\n",
    "            if (prev is None) or (score > prev['score']):\n",
    "                best_map[match_name] = {\n",
    "                    'oficial': row['Empleado'],         # nombre oficial legible\n",
    "                    'empleado_limpio_oficial': oficial_limpio,\n",
    "                    'dept': dept,\n",
    "                    'score': score\n",
    "                }\n",
    "\n",
    "# ---- Construir mapas y aplicarlos al df_cota ----\n",
    "map_depto   = {k: v['dept']     for k, v in best_map.items()}\n",
    "map_oficial = {k: v['oficial']  for k, v in best_map.items()}\n",
    "\n",
    "df_cota['Departamento']    = df_cota['nombre_limpio'].map(map_depto)\n",
    "df_cota['empleado_matched'] = df_cota['nombre_limpio'].map(map_oficial)\n",
    "\n",
    "# ---- Informes rápidos para diagnosticar ----\n",
    "print(\"Oficiales (total):\", df_empleados.shape[0])\n",
    "print(\"Nombres únicos en df_cota:\", len(cotas_unique))\n",
    "print(\"Nombres de df_cota asignados a oficiales:\", len(map_depto))\n",
    "print(\"Umbral usado (THRESHOLD):\", THRESHOLD)\n",
    "\n",
    "empleados_matcheados = sorted({v['empleado_limpio_oficial'] for v in best_map.values()})\n",
    "empleados_sin_match = df_empleados[\n",
    "    ~df_empleados['empleado_limpio'].isin(empleados_matcheados)\n",
    "]['Empleado'].tolist()\n",
    "\n",
    "print(\"Empleados oficiales sin match:\", len(empleados_sin_match))\n",
    "print(empleados_sin_match)\n",
    "\n",
    "\n"
   ]
  },
  {
   "cell_type": "code",
   "execution_count": 9,
   "id": "85b3a418",
   "metadata": {},
   "outputs": [
    {
     "name": "stdout",
     "output_type": "stream",
     "text": [
      "El numero de trabajadores unicos es de  61\n"
     ]
    }
   ],
   "source": [
    "print(f\"El numero de trabajadores unicos es de \",df_cota['nombre_limpio'].nunique())"
   ]
  },
  {
   "cell_type": "code",
   "execution_count": 10,
   "id": "6bd31657",
   "metadata": {},
   "outputs": [],
   "source": [
    "df_cota_produccion = df_cota[df_cota[\"Departamento\"].isin([\"DIRECCIÓN DE PLANTA\",\"PRODUCCION\",\"MANTENIMIENTO\"])]"
   ]
  },
  {
   "cell_type": "code",
   "execution_count": 11,
   "id": "8edba089",
   "metadata": {},
   "outputs": [
    {
     "name": "stdout",
     "output_type": "stream",
     "text": [
      "Numero de trabajadores unicos en planta 37\n"
     ]
    }
   ],
   "source": [
    "print(f\"Numero de trabajadores unicos en planta\",df_cota_produccion['nombre_limpio'].nunique())"
   ]
  },
  {
   "cell_type": "markdown",
   "id": "b004340c",
   "metadata": {},
   "source": [
    "### HORAS IDEALES DEL MES"
   ]
  },
  {
   "cell_type": "code",
   "execution_count": 12,
   "id": "adb115e1",
   "metadata": {},
   "outputs": [
    {
     "name": "stdout",
     "output_type": "stream",
     "text": [
      "Esta la cantidad de horas reales esperadas para el mes 175.5\n"
     ]
    }
   ],
   "source": [
    "import pandas as pd\n",
    "import holidays\n",
    "\n",
    "def horas_ideales_mes(year=2025, month=8):\n",
    "    # Festivos de Colombia\n",
    "    co_holidays = holidays.CountryHoliday(\"CO\", years=[year])\n",
    "\n",
    "    # Rango de días del mes\n",
    "    inicio = pd.Timestamp(year, month, 1)\n",
    "    fin = inicio + pd.offsets.MonthEnd(0)\n",
    "    dias = pd.date_range(inicio, fin, freq=\"D\")\n",
    "\n",
    "    total_horas = 0.0\n",
    "    for d in dias:\n",
    "        if d.weekday() <= 3 and d.date() not in co_holidays:   # Lunes-Jueves\n",
    "            total_horas += 9.5\n",
    "        elif d.weekday() == 4 and d.date() not in co_holidays: # Viernes\n",
    "            total_horas += 8.5\n",
    "        # sábados, domingos y festivos = 0\n",
    "\n",
    "    return round(total_horas, 2)\n",
    "\n",
    "# Ejemplo: horas ideales agosto 2025\n",
    "print(F\"Esta la cantidad de horas reales esperadas para el mes\",horas_ideales_mes(2025, 8))\n",
    "horas_del_mes = horas_ideales_mes(2025, 8)\n"
   ]
  },
  {
   "cell_type": "code",
   "execution_count": null,
   "id": "0b4d2913",
   "metadata": {},
   "outputs": [],
   "source": [
    "import pandas as pd\n",
    "import numpy as np\n",
    "from datetime import time, date\n",
    "import holidays\n",
    "\n",
    "def _is_holiday(d: date, holidays_obj) -> bool:\n",
    "    if holidays_obj is None:\n",
    "        return False\n",
    "    try:\n",
    "        return d in holidays_obj\n",
    "    except Exception:\n",
    "        return d in set(holidays_obj)\n",
    "\n",
    "def horas_ideales_mes(year=2025, month=8, holidays_obj=None, treat_holidays_as_non_working=True):\n",
    "    inicio = pd.Timestamp(year, month, 1)\n",
    "    fin = inicio + pd.offsets.MonthEnd(0)\n",
    "    dias = pd.date_range(inicio, fin, freq=\"D\").date\n",
    "\n",
    "    total = 0.0\n",
    "    for d in dias:\n",
    "        if d.weekday() <= 3:     # Lun-Jue\n",
    "            jornada = 9.5\n",
    "        elif d.weekday() == 4:   # Viernes\n",
    "            jornada = 8.5\n",
    "        else:\n",
    "            jornada = 0.0\n",
    "\n",
    "        if treat_holidays_as_non_working and _is_holiday(d, holidays_obj) and jornada > 0:\n",
    "            continue\n",
    "        total += jornada\n",
    "\n",
    "    return round(total, 2)\n",
    "\n",
    "def horas_trabajadas_diario_y_mensual(df, year=2025, month=8,\n",
    "                                      restar_almuerzo=False, minutos_almuerzo=30,\n",
    "                                      holidays_obj=None, treat_holidays_as_non_working=True,\n",
    "                                      debug=False):\n",
    "    dfx = df.copy()\n",
    "\n",
    "    if not pd.api.types.is_datetime64_any_dtype(dfx['tiempo']):\n",
    "        dfx['tiempo'] = pd.to_datetime(dfx['tiempo'], errors='coerce')\n",
    "\n",
    "    dfx = dfx[dfx['tiempo'].notna()].copy()\n",
    "    dfx = dfx[(dfx['tiempo'].dt.year == year) & (dfx['tiempo'].dt.month == month)]\n",
    "\n",
    "    dfx['fecha'] = dfx['tiempo'].dt.date\n",
    "\n",
    "    agg = (\n",
    "        dfx.groupby(['nombre_limpio', 'fecha'], as_index=False)\n",
    "        .agg(\n",
    "            primera=('tiempo', 'min'),\n",
    "            ultima=('tiempo', 'max'),\n",
    "            marcaciones=('tiempo', 'count')\n",
    "        )\n",
    "    )\n",
    "\n",
    "    dept_first = (\n",
    "        dfx.sort_values(['nombre_limpio', 'fecha', 'tiempo'])\n",
    "        .groupby(['nombre_limpio', 'fecha'], as_index=False)['Departamento']\n",
    "        .first()\n",
    "    )\n",
    "    agg = agg.merge(dept_first, on=['nombre_limpio', 'fecha'], how='left')\n",
    "\n",
    "    span_horas = (agg['ultima'] - agg['primera']).dt.total_seconds() / 3600.0\n",
    "    span_horas = span_horas.where(agg['marcaciones'] >= 2, 0.0)\n",
    "\n",
    "    if restar_almuerzo:\n",
    "        span_horas = np.maximum(0.0, span_horas - (minutos_almuerzo / 60.0))\n",
    "\n",
    "    agg['horas_trabajadas'] = span_horas\n",
    "\n",
    "    hora_inicio = time(6, 40)\n",
    "    agg['llegada'] = np.where(\n",
    "        agg['primera'].isna(),\n",
    "        \"Sin marcación\",\n",
    "        np.where(agg['primera'].dt.time > hora_inicio, \"Tarde\", \"A tiempo\")\n",
    "    )\n",
    "\n",
    "    # Diario\n",
    "    diario = agg.rename(columns={'nombre_limpio': 'empleado', 'fecha': 'fecha_dia'})[\n",
    "        ['empleado', 'Departamento', 'fecha_dia', 'marcaciones', 'primera', 'ultima',\n",
    "         'horas_trabajadas', 'llegada']\n",
    "    ].copy()\n",
    "\n",
    "    # Resumen mensual\n",
    "    mensual = (\n",
    "        diario.groupby(['empleado', 'Departamento'], as_index=False)\n",
    "        .agg(\n",
    "            horas_trabajadas_total=('horas_trabajadas', 'sum'),\n",
    "            dias_con_registros=('fecha_dia', 'nunique')\n",
    "        )\n",
    "    )\n",
    "    mensual['horas_trabajadas_total'] = mensual['horas_trabajadas_total'].round(2)\n",
    "\n",
    "    horas_ideales_const = horas_ideales_mes(year, month, holidays_obj=holidays_obj,\n",
    "                                           treat_holidays_as_non_working=treat_holidays_as_non_working)\n",
    "    mensual['horas_ideales'] = horas_ideales_const\n",
    "\n",
    "    #  Nuevo campo con el total de horas del mes\n",
    "    mensual['horas_del_mes'] = horas_ideales_const\n",
    "\n",
    "    mensual['cumplimiento'] = np.where(\n",
    "        mensual['horas_trabajadas_total'] >= mensual['horas_ideales'], \"Sí\", \"No\"\n",
    "    )\n",
    "\n",
    "    mensual = mensual[['empleado', 'Departamento', 'horas_trabajadas_total',\n",
    "                       'horas_ideales', 'cumplimiento', 'dias_con_registros']].sort_values('empleado')\n",
    "\n",
    "    return diario, mensual, horas_ideales_const\n",
    "\n",
    "\n"
   ]
  },
  {
   "cell_type": "code",
   "execution_count": null,
   "id": "dbc19b61",
   "metadata": {},
   "outputs": [],
   "source": [
    "diario, mensual, horas_ideales_mes = horas_trabajadas_diario_y_mensual(\n",
    "    df_cota_produccion,\n",
    "    year=2025,\n",
    "    month=8,\n",
    "    holidays_obj=co_holidays,           #festivos 🇨🇴\n",
    "    treat_holidays_as_non_working=True, # True = los festivos no suman horas\n",
    "    restar_almuerzo=False              # ponlo True si se quiere el tiempo real de trabajo que por ahora no\n",
    ")\n"
   ]
  },
  {
   "cell_type": "code",
   "execution_count": 15,
   "id": "0b1c97e7",
   "metadata": {},
   "outputs": [],
   "source": [
    "import xlsxwriter\n",
    "\n",
    "year = 2025\n",
    "month = 8\n",
    "\n",
    "nombre_archivo = f\"entregas/mes_produccion_{year}_{month:02d}.xlsx\"\n",
    "with pd.ExcelWriter(nombre_archivo, engine=\"xlsxwriter\") as writer:\n",
    "    # Guardar las dos hojas\n",
    "    diario.to_excel(writer, sheet_name=\"Diario\", index=False)\n",
    "    mensual.to_excel(writer, sheet_name=\"Mensual\", index=False)\n",
    "\n",
    "    # === AQUI EMPIEZA EL FORMATO CONDICIONAL ===\n",
    "    workbook = writer.book\n",
    "    ws_mensual = writer.sheets[\"Mensual\"]\n",
    "\n",
    "\n",
    "    # Columnas clave\n",
    "    col_cumplimiento = mensual.columns.get_loc(\"cumplimiento\") + 1  # +1 por índice Excel\n",
    "    col_dias = mensual.columns.get_loc(\"dias_con_registros\") + 1\n",
    "\n",
    "    ultima_fila = len(mensual) + 1  # +1 por el encabezado"
   ]
  },
  {
   "cell_type": "markdown",
   "id": "c614a7ca",
   "metadata": {},
   "source": [
    "# HAY UNA REGLA QUE NECESITO QUE BRAYAN ME PASE POR ESCRITO EN EL TEMA DE LAS MARCACIONES PARA ENTENDER COMO HACER EL ANALISIS DE UNA MANERA MAS JUSTA "
   ]
  },
  {
   "cell_type": "markdown",
   "id": "ad8dc610",
   "metadata": {},
   "source": []
  }
 ],
 "metadata": {
  "kernelspec": {
   "display_name": ".entorno",
   "language": "python",
   "name": "python3"
  },
  "language_info": {
   "codemirror_mode": {
    "name": "ipython",
    "version": 3
   },
   "file_extension": ".py",
   "mimetype": "text/x-python",
   "name": "python",
   "nbconvert_exporter": "python",
   "pygments_lexer": "ipython3",
   "version": "3.12.3"
  }
 },
 "nbformat": 4,
 "nbformat_minor": 5
}
